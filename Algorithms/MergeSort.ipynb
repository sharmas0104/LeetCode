{
 "cells": [
  {
   "cell_type": "markdown",
   "id": "2c404dcf",
   "metadata": {},
   "source": [
    "# Merge Sort\n",
    "\n",
    "https://youtu.be/nCNfu_zNhyI <br>\n",
    "https://www.programiz.com/dsa/merge-sort"
   ]
  },
  {
   "cell_type": "markdown",
   "id": "d42dce65",
   "metadata": {},
   "source": [
    "## Divide and Conquer Algorithms"
   ]
  },
  {
   "cell_type": "markdown",
   "id": "34e06484",
   "metadata": {},
   "source": [
    "Divide a problem into smaller subproblems and combine the results of the subproblems to solve the main problem.   \n",
    "\n",
    "In Merge Sort, an unsorted list is divided in half until all parts of the list are sortable. This mechanism of the Merge Sort Algorithm is recursive. \n"
   ]
  },
  {
   "cell_type": "markdown",
   "id": "2e650c01",
   "metadata": {},
   "source": [
    "## Merge Sort on Sorted Lists"
   ]
  },
  {
   "cell_type": "code",
   "execution_count": 17,
   "id": "01daa3cf",
   "metadata": {},
   "outputs": [],
   "source": [
    "def merge_sorted_lists(list1, list2):\n",
    "    \n",
    "    \n",
    "    sorted_list = []\n",
    "    \n",
    "    # get length of list1 and list2\n",
    "    list1_len = len(list1)\n",
    "    list2_len = len(list2)\n",
    "    \n",
    "    i = 0\n",
    "    j = 0\n",
    "    while (i < list1_len and j < list2_len):\n",
    "        if (list1[i] <= list2[j]):\n",
    "            sorted_list.append(list1[i])\n",
    "            i+=1\n",
    "        else:\n",
    "            sorted_list.append(list2[j])\n",
    "            j+=1\n",
    "    # after this loop, there will be some elements left over in one of the lists.\n",
    "    # so, we need to append those elements to the end of sorted_lists.\n",
    "        \n",
    "    while i < list1_len:\n",
    "        sorted_list.append(list1[i])\n",
    "        i+=1\n",
    "    while j < list2_len:\n",
    "        sorted_list.append(list2[j])\n",
    "        j+=1\n",
    "        \n",
    "    return sorted_list"
   ]
  },
  {
   "cell_type": "code",
   "execution_count": 18,
   "id": "449383ca",
   "metadata": {},
   "outputs": [
    {
     "name": "stdout",
     "output_type": "stream",
     "text": [
      "[3, 7, 18, 21, 56, 72, 90, 100, 101]\n"
     ]
    }
   ],
   "source": [
    "list1 = [7,21,56,72,101]\n",
    "list2 = [3,18,90,100]\n",
    "\n",
    "print(merge_sorted_lists(list1, list2))"
   ]
  },
  {
   "cell_type": "markdown",
   "id": "1174ed05",
   "metadata": {},
   "source": [
    "## Merge Sort on Unsorted Lists"
   ]
  },
  {
   "cell_type": "code",
   "execution_count": 22,
   "id": "a3f264e8",
   "metadata": {},
   "outputs": [],
   "source": [
    "def merge_sort(arr):\n",
    "    # base case\n",
    "    if (len(arr) <= 1):\n",
    "        return arr\n",
    "    # split the array \n",
    "    mid = len(arr) // 2\n",
    "    left = arr[:mid]\n",
    "    right = arr[mid:]\n",
    "    \n",
    "    left = merge_sort(left)\n",
    "    right = merge_sort(right)\n",
    "    \n",
    "    return merge_sorted_lists(left, right)\n"
   ]
  },
  {
   "cell_type": "code",
   "execution_count": 23,
   "id": "48f98cf7",
   "metadata": {},
   "outputs": [
    {
     "data": {
      "text/plain": [
       "[3, 7, 18, 21, 56, 72, 90, 100, 101]"
      ]
     },
     "execution_count": 23,
     "metadata": {},
     "output_type": "execute_result"
    }
   ],
   "source": [
    "arr = [7,21,56,72,101,3,18,90,100]\n",
    "merge_sort(arr)"
   ]
  },
  {
   "cell_type": "markdown",
   "id": "e4f124b6",
   "metadata": {},
   "source": []
  }
 ],
 "metadata": {
  "kernelspec": {
   "display_name": "Python 3",
   "language": "python",
   "name": "python3"
  },
  "language_info": {
   "codemirror_mode": {
    "name": "ipython",
    "version": 3
   },
   "file_extension": ".py",
   "mimetype": "text/x-python",
   "name": "python",
   "nbconvert_exporter": "python",
   "pygments_lexer": "ipython3",
   "version": "3.6.8"
  }
 },
 "nbformat": 4,
 "nbformat_minor": 5
}

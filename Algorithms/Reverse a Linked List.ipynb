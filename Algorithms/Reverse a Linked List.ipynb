{
 "cells": [
  {
   "cell_type": "markdown",
   "id": "4c2eb4b7",
   "metadata": {},
   "source": [
    "### Creating Node Object and Singly Linked List"
   ]
  },
  {
   "cell_type": "code",
   "execution_count": 177,
   "id": "a01471bf",
   "metadata": {},
   "outputs": [],
   "source": [
    "class Node: \n",
    "    def __init__(self, dataval=None):\n",
    "        self.dataval = dataval;\n",
    "        self.nextval = None;\n",
    "\n",
    "class SLinkedList:\n",
    "    def __init__(self):\n",
    "        self.headval = None"
   ]
  },
  {
   "cell_type": "code",
   "execution_count": 271,
   "id": "2deeb5b5",
   "metadata": {},
   "outputs": [],
   "source": [
    "num_list = SLinkedList()\n",
    "head = Node(1)\n",
    "two = Node(2)\n",
    "three = Node(3)\n",
    "four = Node(4)\n",
    "five = Node(5)\n",
    "num_list.headval = head\n",
    "head.nextval = two\n",
    "two.nextval = three\n",
    "three.nextval = four\n",
    "four.nextval = five"
   ]
  },
  {
   "cell_type": "markdown",
   "id": "5b145011",
   "metadata": {},
   "source": [
    "### Print Linked List"
   ]
  },
  {
   "cell_type": "code",
   "execution_count": 194,
   "id": "33563269",
   "metadata": {},
   "outputs": [
    {
     "name": "stdout",
     "output_type": "stream",
     "text": [
      "1\n",
      "2\n",
      "3\n",
      "4\n",
      "5\n"
     ]
    }
   ],
   "source": [
    "current_head = num_list.headval\n",
    "\n",
    "while (current_head is not None):\n",
    "    print(current_head.dataval)\n",
    "    current_head = current_head.nextval"
   ]
  },
  {
   "cell_type": "markdown",
   "id": "20cb9c55",
   "metadata": {},
   "source": [
    "## Swapping Node VALUES - not the pointers"
   ]
  },
  {
   "cell_type": "code",
   "execution_count": 126,
   "id": "f87b6b40",
   "metadata": {},
   "outputs": [],
   "source": [
    "def swap_node_vals(head, node1, node2):\n",
    "    \n",
    "    if (node1 == node2):\n",
    "        return;\n",
    "    vals = []\n",
    "    \n",
    "    current_head = head;\n",
    "    i = 0;\n",
    "    node1_index = 0;\n",
    "    node2_index = 0;\n",
    "    while (current_head != None):\n",
    "        vals.append(current_head.dataval)\n",
    "        if (current_head.dataval == node1.dataval):\n",
    "            node1_index = i;\n",
    "        if (current_head.dataval == node2.dataval):\n",
    "            node2_index = i;\n",
    "        current_head = current_head.nextval\n",
    "        i+=1\n",
    "        \n",
    "    temp = vals[node1_index];\n",
    "    vals[node1_index] = vals[node2_index]\n",
    "    vals[node2_index] = temp;\n",
    "    \n",
    "    j = 0;\n",
    "    current_head = head;\n",
    "    while(current_head != None):\n",
    "        current_head.dataval = vals[j]\n",
    "        current_head = current_head.nextval\n",
    "        j+=1"
   ]
  },
  {
   "cell_type": "code",
   "execution_count": 98,
   "id": "50a42d51",
   "metadata": {},
   "outputs": [],
   "source": [
    "swap_node_vals(head, head, two)"
   ]
  },
  {
   "cell_type": "code",
   "execution_count": 99,
   "id": "c81b1bb5",
   "metadata": {},
   "outputs": [
    {
     "name": "stdout",
     "output_type": "stream",
     "text": [
      "2\n",
      "1\n",
      "3\n",
      "4\n",
      "5\n"
     ]
    }
   ],
   "source": [
    "current_head = head\n",
    "\n",
    "while (current_head is not None):\n",
    "    print(current_head.dataval)\n",
    "    current_head = current_head.nextval"
   ]
  },
  {
   "cell_type": "markdown",
   "id": "a26c4142",
   "metadata": {},
   "source": [
    "## Swapping Node POINTERS - not just the values"
   ]
  },
  {
   "cell_type": "code",
   "execution_count": 260,
   "id": "fd10fbfc",
   "metadata": {},
   "outputs": [],
   "source": [
    "def swap_nodes(head, node1, node2):\n",
    "    \n",
    "    if (head is None):\n",
    "        return\n",
    "    cur = head\n",
    "    prev_node1 = head;\n",
    "    prev_node2 = head;\n",
    "    while cur is not None:\n",
    "        if (cur.nextval == node1):\n",
    "            prev_node1 = cur\n",
    "        if(cur.nextval == node2):\n",
    "            prev_node2 = cur\n",
    "        cur = cur.nextval\n",
    "    \n",
    "    temp = node2.nextval\n",
    "    \n",
    "    if (prev_node1 != node1):\n",
    "        prev_node1.nextval = node2\n",
    "        \n",
    "    if (prev_node2 == node1):\n",
    "        node2.nextval = node1\n",
    "        #if (prev_node1 == head):\n",
    "            #head = node1\n",
    "    else:\n",
    "        node2.nextval = node1.nextval\n",
    "        print(node2.nextval.dataval)\n",
    "        print(node1.nextval.dataval)\n",
    "        prev_node2.nextval = node1\n",
    "    \n",
    "    node1.nextval = temp\n",
    "    \n",
    "    #print(node1.nextval.dataval)\n",
    "    #print(temp.dataval)\n",
    "    \n",
    "    #current_head = node2\n",
    "\n",
    "    #while (current_head is not None):\n",
    "        #print(current_head.dataval)\n",
    "        #current_head = current_head.nextval\n",
    "\n",
    "    if (node1 == head):\n",
    "        head = node2\n",
    "    \n",
    "    return head\n",
    "    \n",
    "    \n",
    "        "
   ]
  },
  {
   "cell_type": "code",
   "execution_count": 275,
   "id": "eb8a2fe8",
   "metadata": {},
   "outputs": [
    {
     "name": "stdout",
     "output_type": "stream",
     "text": [
      "2\n",
      "2\n"
     ]
    }
   ],
   "source": [
    "num_list = SLinkedList()\n",
    "head = Node(1)\n",
    "two = Node(2)\n",
    "three = Node(3)\n",
    "four = Node(4)\n",
    "five = Node(5)\n",
    "num_list.headval = head\n",
    "head.nextval = two\n",
    "two.nextval = three\n",
    "three.nextval = four\n",
    "four.nextval = five\n",
    "\n",
    "node = swap_nodes(head, head, five)"
   ]
  },
  {
   "cell_type": "code",
   "execution_count": 276,
   "id": "c42587f6",
   "metadata": {},
   "outputs": [
    {
     "name": "stdout",
     "output_type": "stream",
     "text": [
      "5\n",
      "2\n",
      "3\n",
      "4\n",
      "1\n"
     ]
    }
   ],
   "source": [
    "current_head = node\n",
    "head = node\n",
    "\n",
    "while (current_head is not None):\n",
    "    print(current_head.dataval)\n",
    "    current_head = current_head.nextval"
   ]
  },
  {
   "cell_type": "code",
   "execution_count": null,
   "id": "37808afb",
   "metadata": {},
   "outputs": [],
   "source": []
  }
 ],
 "metadata": {
  "kernelspec": {
   "display_name": "Python 3",
   "language": "python",
   "name": "python3"
  },
  "language_info": {
   "codemirror_mode": {
    "name": "ipython",
    "version": 3
   },
   "file_extension": ".py",
   "mimetype": "text/x-python",
   "name": "python",
   "nbconvert_exporter": "python",
   "pygments_lexer": "ipython3",
   "version": "3.6.8"
  }
 },
 "nbformat": 4,
 "nbformat_minor": 5
}

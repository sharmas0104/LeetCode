{
 "cells": [
  {
   "cell_type": "markdown",
   "id": "144a6c70",
   "metadata": {},
   "source": [
    "# Binary Sort"
   ]
  },
  {
   "cell_type": "markdown",
   "id": "e2a413e4",
   "metadata": {},
   "source": [
    "### Time Complexity: O(logn) <br> Space Compexity: O(1)\n"
   ]
  },
  {
   "cell_type": "markdown",
   "id": "e4760607",
   "metadata": {},
   "source": [
    "#### Logic:\n",
    "The algorithm takes in the array to look through, the left endpoint, right endpoint, and the target element. The algorithm finds the midpoint element of the list using the left and right endpoint. If the midpoint element is less than the target element, we search the upper half of the list, and if the midpoint element is greater, we search the lower half of the list"
   ]
  },
  {
   "cell_type": "markdown",
   "id": "d5e99e89",
   "metadata": {},
   "source": [
    "### Iterative"
   ]
  },
  {
   "cell_type": "code",
   "execution_count": 41,
   "id": "223649d4",
   "metadata": {},
   "outputs": [],
   "source": [
    "#return location of target element\n",
    "def iter_binary_search(arr, left, right, target):\n",
    "        \n",
    "    while (left <= right): # if \n",
    "        mid = left + (right - left) // 2\n",
    "        print(arr[mid])\n",
    "        if (arr[mid] < target):\n",
    "            #adjust the left endpoint\n",
    "            left = mid + 1\n",
    "        elif (arr[mid] > target):\n",
    "            #adjust the right endpoint\n",
    "            right = mid - 1\n",
    "        else:\n",
    "            return mid\n",
    "    \n",
    "    return -1;"
   ]
  },
  {
   "cell_type": "code",
   "execution_count": 42,
   "id": "a2bf1305",
   "metadata": {},
   "outputs": [
    {
     "name": "stdout",
     "output_type": "stream",
     "text": [
      "4\n",
      "1\n"
     ]
    }
   ],
   "source": [
    "arr = [3, 4, 5]\n",
    "target = 4\n",
    "location = iter_binary_search(arr, 0, len(arr)-1, target)\n",
    "print(location)"
   ]
  },
  {
   "cell_type": "code",
   "execution_count": 43,
   "id": "3dda0670",
   "metadata": {},
   "outputs": [
    {
     "data": {
      "text/plain": [
       "0"
      ]
     },
     "execution_count": 43,
     "metadata": {},
     "output_type": "execute_result"
    }
   ],
   "source": [
    "1 // 2"
   ]
  },
  {
   "cell_type": "markdown",
   "id": "484856e3",
   "metadata": {},
   "source": [
    "### Recursive Implementation 1"
   ]
  },
  {
   "cell_type": "code",
   "execution_count": 52,
   "id": "2e1079bf",
   "metadata": {},
   "outputs": [],
   "source": [
    "def recursive_binary_search(arr, left, right, target):\n",
    "    \n",
    "    if (left > right):\n",
    "        return -1    \n",
    "    mid = left + (right - left) // 2\n",
    "    if (arr[mid] == target):\n",
    "        return mid\n",
    "    if (arr[mid] < target):\n",
    "        return recursive_binary_search(arr, mid + 1, right, target)\n",
    "    else: \n",
    "        return recursive_binary_search(arr, left, mid - 1, target)"
   ]
  },
  {
   "cell_type": "code",
   "execution_count": 65,
   "id": "d8f3f250",
   "metadata": {},
   "outputs": [
    {
     "name": "stdout",
     "output_type": "stream",
     "text": [
      "5\n"
     ]
    }
   ],
   "source": [
    "arr = [3, 4, 5, 6, 7,8]\n",
    "target = 8\n",
    "location = recursive_binary_search(arr, 0, len(arr)-1, target)\n",
    "print(location)"
   ]
  },
  {
   "cell_type": "markdown",
   "id": "028b678d",
   "metadata": {},
   "source": [
    "### Recursive Implementation 2"
   ]
  },
  {
   "cell_type": "code",
   "execution_count": 62,
   "id": "41f60280",
   "metadata": {},
   "outputs": [],
   "source": [
    "def recursive_bin_search(arr, left, right, target):\n",
    "    \n",
    "    if left <= right:\n",
    "\n",
    "        mid = left + (right - left) // 2\n",
    "        if arr[mid] == target:\n",
    "            return mid\n",
    "        elif arr[mid] > target:\n",
    "            recursive_bin_search(arr, mid + 1, right, target)\n",
    "        else:\n",
    "            recursive_bin_search(arr, left, mid - 1, target)\n",
    "    else:\n",
    "        return -1"
   ]
  },
  {
   "cell_type": "code",
   "execution_count": 63,
   "id": "0180f853",
   "metadata": {},
   "outputs": [
    {
     "name": "stdout",
     "output_type": "stream",
     "text": [
      "None\n"
     ]
    }
   ],
   "source": [
    "arr = [3,4,5,6,7,8,9,10]\n",
    "target = 4\n",
    "location = recursive_bin_search(arr, 0, len(arr)-1, target)\n",
    "print(location)"
   ]
  },
  {
   "cell_type": "code",
   "execution_count": null,
   "id": "d57bc811",
   "metadata": {},
   "outputs": [],
   "source": []
  }
 ],
 "metadata": {
  "kernelspec": {
   "display_name": "Python 3",
   "language": "python",
   "name": "python3"
  },
  "language_info": {
   "codemirror_mode": {
    "name": "ipython",
    "version": 3
   },
   "file_extension": ".py",
   "mimetype": "text/x-python",
   "name": "python",
   "nbconvert_exporter": "python",
   "pygments_lexer": "ipython3",
   "version": "3.6.8"
  }
 },
 "nbformat": 4,
 "nbformat_minor": 5
}

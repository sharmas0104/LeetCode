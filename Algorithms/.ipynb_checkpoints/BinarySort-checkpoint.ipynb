{
 "cells": [
  {
   "cell_type": "markdown",
   "id": "bb5eaf51",
   "metadata": {},
   "source": [
    "# Binary Search"
   ]
  },
  {
   "cell_type": "markdown",
   "id": "bfd6fac4",
   "metadata": {},
   "source": [
    "### Time Complexity: O(logn) <br> Space Compexity: O(1)\n"
   ]
  },
  {
   "cell_type": "markdown",
   "id": "21ccd6e2",
   "metadata": {},
   "source": [
    "#### Logic:\n",
    "The algorithm takes in the array to look through, the left endpoint, right endpoint, and the target element. The algorithm finds the midpoint element of the list using the left and right endpoint. If the midpoint element is less than the target element, we search the upper half of the list, and if the midpoint element is greater, we search the lower half of the list"
   ]
  },
  {
   "cell_type": "markdown",
   "id": "929b61a1",
   "metadata": {},
   "source": [
    "### Iterative"
   ]
  },
  {
   "cell_type": "code",
   "execution_count": 66,
   "id": "388d49ce",
   "metadata": {},
   "outputs": [],
   "source": [
    "#return location of target element\n",
    "def iter_binary_search(arr, left, right, target):\n",
    "        \n",
    "    while (left <= right): # if \n",
    "        mid = left + (right - left) // 2\n",
    "        if (arr[mid] < target):\n",
    "            #adjust the left endpoint\n",
    "            left = mid + 1\n",
    "        elif (arr[mid] > target):\n",
    "            #adjust the right endpoint\n",
    "            right = mid - 1\n",
    "        else:\n",
    "            return mid\n",
    "    \n",
    "    return -1;"
   ]
  },
  {
   "cell_type": "code",
   "execution_count": 67,
   "id": "4282a5cb",
   "metadata": {},
   "outputs": [
    {
     "name": "stdout",
     "output_type": "stream",
     "text": [
      "1\n"
     ]
    }
   ],
   "source": [
    "arr = [3, 4, 5]\n",
    "target = 4\n",
    "location = iter_binary_search(arr, 0, len(arr)-1, target)\n",
    "print(location)"
   ]
  },
  {
   "cell_type": "markdown",
   "id": "bd88e642",
   "metadata": {},
   "source": [
    "### Recursive Implementation "
   ]
  },
  {
   "cell_type": "code",
   "execution_count": 52,
   "id": "45f591db",
   "metadata": {},
   "outputs": [],
   "source": [
    "def recursive_binary_search(arr, left, right, target):\n",
    "    \n",
    "    if (left > right):\n",
    "        return -1    \n",
    "    mid = left + (right - left) // 2\n",
    "    if (arr[mid] == target):\n",
    "        return mid\n",
    "    if (arr[mid] < target):\n",
    "        return recursive_binary_search(arr, mid + 1, right, target)\n",
    "    else: \n",
    "        return recursive_binary_search(arr, left, mid - 1, target)"
   ]
  },
  {
   "cell_type": "code",
   "execution_count": 65,
   "id": "c914b9ca",
   "metadata": {},
   "outputs": [
    {
     "name": "stdout",
     "output_type": "stream",
     "text": [
      "5\n"
     ]
    }
   ],
   "source": [
    "arr = [3, 4, 5, 6, 7,8]\n",
    "target = 8\n",
    "location = recursive_binary_search(arr, 0, len(arr)-1, target)\n",
    "print(location)"
   ]
  }
 ],
 "metadata": {
  "kernelspec": {
   "display_name": "Python 3",
   "language": "python",
   "name": "python3"
  },
  "language_info": {
   "codemirror_mode": {
    "name": "ipython",
    "version": 3
   },
   "file_extension": ".py",
   "mimetype": "text/x-python",
   "name": "python",
   "nbconvert_exporter": "python",
   "pygments_lexer": "ipython3",
   "version": "3.6.8"
  }
 },
 "nbformat": 4,
 "nbformat_minor": 5
}

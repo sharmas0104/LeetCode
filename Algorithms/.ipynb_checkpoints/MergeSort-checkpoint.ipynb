{
 "cells": [
  {
   "cell_type": "markdown",
   "id": "ea4bac6b",
   "metadata": {},
   "source": [
    "# Merge Sort\n",
    "\n",
    "Video: https://youtu.be/nCNfu_zNhyI <br>\n",
    "https://www.programiz.com/dsa/merge-sort"
   ]
  },
  {
   "cell_type": "markdown",
   "id": "8b0afcd4",
   "metadata": {},
   "source": [
    "## Divide and Conquer Algorithms"
   ]
  },
  {
   "cell_type": "markdown",
   "id": "9d6dfa3c",
   "metadata": {},
   "source": [
    "Divide a problem into smaller subproblems and combine the results of the subproblems to solve the main problem.   \n",
    "\n",
    "In Merge Sort, an unsorted list is divided in half until all parts of the list are sortable. This mechanism of the Merge Sort Algorithm is recursive. \n"
   ]
  },
  {
   "cell_type": "markdown",
   "id": "c425086f",
   "metadata": {},
   "source": [
    "## Merge Sort on Sorted Lists"
   ]
  },
  {
   "cell_type": "code",
   "execution_count": 17,
   "id": "6d0196a2",
   "metadata": {},
   "outputs": [],
   "source": [
    "def merge_sorted_lists(list1, list2):\n",
    "    \n",
    "    \n",
    "    sorted_list = []\n",
    "    \n",
    "    # get length of list1 and list2\n",
    "    list1_len = len(list1)\n",
    "    list2_len = len(list2)\n",
    "    \n",
    "    i = 0\n",
    "    j = 0\n",
    "    while (i < list1_len and j < list2_len):\n",
    "        if (list1[i] <= list2[j]):\n",
    "            sorted_list.append(list1[i])\n",
    "            i+=1\n",
    "        else:\n",
    "            sorted_list.append(list2[j])\n",
    "            j+=1\n",
    "    # after this loop, there will be some elements left over in one of the lists.\n",
    "    # so, we need to append those elements to the end of sorted_lists.\n",
    "        \n",
    "    while i < list1_len:\n",
    "        sorted_list.append(list1[i])\n",
    "        i+=1\n",
    "    while j < list2_len:\n",
    "        sorted_list.append(list2[j])\n",
    "        j+=1\n",
    "        \n",
    "    return sorted_list"
   ]
  },
  {
   "cell_type": "code",
   "execution_count": 18,
   "id": "c94a9925",
   "metadata": {},
   "outputs": [
    {
     "name": "stdout",
     "output_type": "stream",
     "text": [
      "[3, 7, 18, 21, 56, 72, 90, 100, 101]\n"
     ]
    }
   ],
   "source": [
    "list1 = [7,21,56,72,101]\n",
    "list2 = [3,18,90,100]\n",
    "\n",
    "print(merge_sorted_lists(list1, list2))"
   ]
  },
  {
   "cell_type": "markdown",
   "id": "5dff83db",
   "metadata": {},
   "source": [
    "## Merge Sort on Unsorted Lists"
   ]
  },
  {
   "cell_type": "code",
   "execution_count": 22,
   "id": "e0246873",
   "metadata": {},
   "outputs": [],
   "source": [
    "def merge_sort(arr):\n",
    "    # base case\n",
    "    if (len(arr) <= 1):\n",
    "        return arr\n",
    "    # split the array \n",
    "    mid = len(arr) // 2\n",
    "    left = arr[:mid]\n",
    "    right = arr[mid:]\n",
    "    \n",
    "    left = merge_sort(left)\n",
    "    right = merge_sort(right)\n",
    "    \n",
    "    return merge_sorted_lists(left, right)\n"
   ]
  },
  {
   "cell_type": "code",
   "execution_count": 23,
   "id": "d22a3ba9",
   "metadata": {},
   "outputs": [
    {
     "data": {
      "text/plain": [
       "[3, 7, 18, 21, 56, 72, 90, 100, 101]"
      ]
     },
     "execution_count": 23,
     "metadata": {},
     "output_type": "execute_result"
    }
   ],
   "source": [
    "arr = [7,21,56,72,101,3,18,90,100]\n",
    "merge_sort(arr)"
   ]
  },
  {
   "cell_type": "markdown",
   "id": "aff17dc7",
   "metadata": {},
   "source": [
    "## Optimizing Space Complexity\n",
    "\n",
    "What is Space Complexity? The amount of memory taken up by an algorithm, including the space of input values <br>\n",
    "\n",
    "What's wrong with the above Merge Sort approach? The above implementation creates a lot of new arrays. For example, in merge_sorted_lists(), a new array sorted_list is made, and new arrays \"left\" and \"right\" are made in merge_sort(). If we modify this algorithm so that it does not create these extra arrays, the algorithm will take up less memory.\n",
    "\n",
    "Instead of merge_sort() returning a new array, we should modify the array passed into the function. So, if we pass in arr (merge_sort(arr)), and print arr (print(arr)), arr should now be the sorted list. <br>\n",
    "\n"
   ]
  },
  {
   "cell_type": "markdown",
   "id": "60041dca",
   "metadata": {},
   "source": [
    "### Modified Algorithms"
   ]
  },
  {
   "cell_type": "code",
   "execution_count": 5,
   "id": "0a59f0b8",
   "metadata": {},
   "outputs": [],
   "source": [
    "def modified_merge_sorted_lists(list1, list2, arr):\n",
    "    \n",
    "    \n",
    "    #sorted_list = []  # do not create this new sorted_list\n",
    "    \n",
    "    # get length of list1 and list2\n",
    "    list1_len = len(list1)\n",
    "    list2_len = len(list2)\n",
    "    \n",
    "    i = 0\n",
    "    j = 0\n",
    "    k = 0\n",
    "    while (i < list1_len and j < list2_len):\n",
    "        if (list1[i] <= list2[j]):\n",
    "            #sorted_list.append(list1[i])\n",
    "            arr[k] = list1[i]\n",
    "            i+=1\n",
    "        else:\n",
    "            #sorted_list.append(list2[j])\n",
    "            arr[k] = list2[j]\n",
    "            j+=1\n",
    "        k+=1\n",
    "    # after this loop, there will be some elements left over in one of the lists.\n",
    "    # so, we need to append those elements to the end of sorted_lists.\n",
    "        \n",
    "    while i < list1_len:\n",
    "        #sorted_list.append(list1[i])\n",
    "        arr[k] = list1[i]\n",
    "        i+=1\n",
    "        k+=1\n",
    "    while j < list2_len:\n",
    "        # sorted_list.append(list2[j])\n",
    "        arr[k] = list2[j]\n",
    "        j+=1\n",
    "        k+=1\n",
    "    # return sorted_list --- we don't have to return anything, because we are sorting arr itself"
   ]
  },
  {
   "cell_type": "code",
   "execution_count": 8,
   "id": "3404076f",
   "metadata": {},
   "outputs": [],
   "source": [
    "def modified_merge_sort(arr):\n",
    "    # base case\n",
    "    if (len(arr) <= 1):\n",
    "        return # don't return arr. instead, do nothing\n",
    "    # split the array \n",
    "    mid = len(arr) // 2\n",
    "    left = arr[:mid]\n",
    "    right = arr[mid:]\n",
    "    \n",
    "    # do not set left and right equal to these recursive calls\n",
    "    modified_merge_sort(left)\n",
    "    modified_merge_sort(right)\n",
    "    modified_merge_sorted_lists(left, right, arr) # do not return this recursive call"
   ]
  },
  {
   "cell_type": "code",
   "execution_count": 10,
   "id": "b0c332b5",
   "metadata": {},
   "outputs": [
    {
     "name": "stdout",
     "output_type": "stream",
     "text": [
      "[3, 7, 18, 21, 56, 72, 90, 100, 101]\n"
     ]
    }
   ],
   "source": [
    "arr = [7,21,56,72,101,3,18,90,100]\n",
    "modified_merge_sort(arr)\n",
    "print(arr)"
   ]
  },
  {
   "cell_type": "markdown",
   "id": "299f8acc",
   "metadata": {},
   "source": [
    "### We are able to modify the array we pass into the function because arrays are pointers. So, there is no need to create intermediary arrays"
   ]
  },
  {
   "cell_type": "markdown",
   "id": "b6c7e5c0",
   "metadata": {},
   "source": [
    "## Time Complexity of Merge Sort: O(nlogn)\n",
    "\n",
    "### Explanation\n",
    "\n",
    "The Divide Step: Dividing the array into two halves takese constant time: O(1) <br>\n",
    "The Conquer Step: Sorting two subarrays recursively takes O(logn) : This is a similar mechanism to binary search <br>\n",
    "The Combining Step: A total of n elements are merged, which takes O(n)\n"
   ]
  },
  {
   "cell_type": "code",
   "execution_count": null,
   "id": "233ae93b",
   "metadata": {},
   "outputs": [],
   "source": []
  }
 ],
 "metadata": {
  "kernelspec": {
   "display_name": "Python 3",
   "language": "python",
   "name": "python3"
  },
  "language_info": {
   "codemirror_mode": {
    "name": "ipython",
    "version": 3
   },
   "file_extension": ".py",
   "mimetype": "text/x-python",
   "name": "python",
   "nbconvert_exporter": "python",
   "pygments_lexer": "ipython3",
   "version": "3.6.8"
  }
 },
 "nbformat": 4,
 "nbformat_minor": 5
}

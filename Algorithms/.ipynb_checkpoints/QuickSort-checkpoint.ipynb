{
 "cells": [
  {
   "cell_type": "markdown",
   "id": "f0834cb2",
   "metadata": {},
   "source": [
    "# Quick Sort\n",
    "\n",
    "Video: https://youtu.be/5iSZ7mh_RAk <br>\n",
    "https://www.programiz.com/dsa/quick-sort"
   ]
  },
  {
   "cell_type": "markdown",
   "id": "bc6e6843",
   "metadata": {},
   "source": [
    "## Divide and Conquer\n",
    "\n",
    "Partition the array to place the pivot element in it's correct position. Then, do repeat the process for the elements before and after the correctly placed pivot. "
   ]
  },
  {
   "cell_type": "code",
   "execution_count": 41,
   "id": "d0fae246",
   "metadata": {},
   "outputs": [],
   "source": [
    "# this function puts the first element in an array in a position where every element to the left of it is less than\n",
    "# it, and every element to the right is greater than it. \n",
    "def partition(elements, start, end):\n",
    "    pivot_index = start;\n",
    "    pivot = elements[pivot_index]\n",
    "    \n",
    "    #start = \n",
    "    #end = len(elements) - 1\n",
    "    \n",
    "    while start < end:\n",
    "    \n",
    "        # with this while loop, we are trying to find the element that\n",
    "        # is greater than the pivot (iterationf from the front of the list)\n",
    "        while start < len(elements) and elements[start] <= pivot:\n",
    "            start +=1\n",
    "        # with this loop, we are trying to find the first element\n",
    "        # that is less than pivot (iterating from the back of the list)\n",
    "        while elements[end] > pivot:\n",
    "            end -= 1\n",
    "\n",
    "        # then, we have to swap the start and the end\n",
    "        if (start < end):\n",
    "            temp = elements[start]; \n",
    "            elements[start] = elements[end];\n",
    "            elements[end] = temp;\n",
    "    \n",
    "    #now, we need to swap end with pivot\n",
    "    \n",
    "    #temp = pivot;\n",
    "    elements[pivot_index] = elements[end];\n",
    "    elements[end] = pivot;\n",
    "    \n",
    "    \n",
    "    return end\n",
    "    "
   ]
  },
  {
   "cell_type": "code",
   "execution_count": 35,
   "id": "45e95427",
   "metadata": {},
   "outputs": [
    {
     "name": "stdout",
     "output_type": "stream",
     "text": [
      "[15, 28, 27]\n"
     ]
    }
   ],
   "source": [
    "arr = [15,28,27]\n",
    "partition(arr, 0, 2)\n",
    "print(arr)"
   ]
  },
  {
   "cell_type": "code",
   "execution_count": 36,
   "id": "993904ac",
   "metadata": {},
   "outputs": [],
   "source": [
    "def quicksort(elements, start, end):\n",
    "    if start < end:\n",
    "        pi = partition(elements, start, end)\n",
    "        quicksort(elements, start, pi - 1)\n",
    "        quicksort(elements, pi+1, end)\n"
   ]
  },
  {
   "cell_type": "code",
   "execution_count": 40,
   "id": "4880c0b3",
   "metadata": {},
   "outputs": [
    {
     "name": "stdout",
     "output_type": "stream",
     "text": [
      "[7, 14, 20, 41, 51, 82, 101]\n"
     ]
    }
   ],
   "source": [
    "arr = [20,41,7,14,51,82,101]\n",
    "quicksort(arr, 0, len(arr) - 1)\n",
    "print(arr)"
   ]
  },
  {
   "cell_type": "markdown",
   "id": "bdf89f7b",
   "metadata": {},
   "source": [
    "## Time Complexity of Quick Sort\n",
    "### Best Case: O(nlogn)\n",
    "### Worst Case: O(n^2) \n",
    "Worst case occurs when the pivot element chosen is either the greatest or smallest element in the list\n",
    "### Space Complexity: O(logn)\n",
    "\n",
    "\n",
    "   "
   ]
  },
  {
   "cell_type": "code",
   "execution_count": null,
   "id": "bd3fa850",
   "metadata": {},
   "outputs": [],
   "source": []
  }
 ],
 "metadata": {
  "kernelspec": {
   "display_name": "Python 3",
   "language": "python",
   "name": "python3"
  },
  "language_info": {
   "codemirror_mode": {
    "name": "ipython",
    "version": 3
   },
   "file_extension": ".py",
   "mimetype": "text/x-python",
   "name": "python",
   "nbconvert_exporter": "python",
   "pygments_lexer": "ipython3",
   "version": "3.6.8"
  }
 },
 "nbformat": 4,
 "nbformat_minor": 5
}

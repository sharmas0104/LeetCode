{
 "cells": [
  {
   "cell_type": "markdown",
   "id": "742d1a6c",
   "metadata": {},
   "source": [
    "# Brute Force "
   ]
  },
  {
   "cell_type": "code",
   "execution_count": 3,
   "id": "8505cd9e",
   "metadata": {},
   "outputs": [],
   "source": [
    "def twoSum(nums, target):\n",
    "        \"\"\"\n",
    "        :type nums: List[int]\n",
    "        :type target: int\n",
    "        :rtype: List[int]\n",
    "        \"\"\"\n",
    "        for i in range(len(nums)):\n",
    "            for j in range(i + 1, len(nums)):\n",
    "                if (nums[i] + nums[j] == target):\n",
    "                    return [i,j]"
   ]
  },
  {
   "cell_type": "markdown",
   "id": "ab90b36b",
   "metadata": {},
   "source": [
    "# Optimized - Dictionary O(n)"
   ]
  },
  {
   "cell_type": "code",
   "execution_count": 4,
   "id": "0a206299",
   "metadata": {},
   "outputs": [],
   "source": [
    "def twoSum(nums, target):\n",
    "        \"\"\"\n",
    "        :type nums: List[int]\n",
    "        :type target: int\n",
    "        :rtype: List[int]\n",
    "        \"\"\"\n",
    "\n",
    "        num_dict = {}\n",
    "        for i in range(len(nums)):\n",
    "            if target - nums[i] in num_dict:\n",
    "                print(i)\n",
    "                return[num_dict[target - nums[i]], i]\n",
    "            num_dict[nums[i]] = i"
   ]
  },
  {
   "cell_type": "code",
   "execution_count": null,
   "id": "237be4f1",
   "metadata": {},
   "outputs": [],
   "source": []
  }
 ],
 "metadata": {
  "kernelspec": {
   "display_name": "Python 3",
   "language": "python",
   "name": "python3"
  },
  "language_info": {
   "codemirror_mode": {
    "name": "ipython",
    "version": 3
   },
   "file_extension": ".py",
   "mimetype": "text/x-python",
   "name": "python",
   "nbconvert_exporter": "python",
   "pygments_lexer": "ipython3",
   "version": "3.6.8"
  }
 },
 "nbformat": 4,
 "nbformat_minor": 5
}

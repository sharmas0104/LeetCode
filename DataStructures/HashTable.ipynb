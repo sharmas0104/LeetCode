{
 "cells": [
  {
   "cell_type": "markdown",
   "id": "9426e31d",
   "metadata": {},
   "source": [
    "# Hash Table"
   ]
  },
  {
   "cell_type": "code",
   "execution_count": 5,
   "id": "72f15ade",
   "metadata": {},
   "outputs": [
    {
     "name": "stdout",
     "output_type": "stream",
     "text": [
      "skip\n",
      "\n"
     ]
    }
   ],
   "source": [
    "jan_temps = []\n",
    "with open(\"nyc_weather.csv\",\"r\") as file:\n",
    "    for line in file:\n",
    "        tokens = line.split(',')\n",
    "        day = tokens[0]\n",
    "        try:\n",
    "            temp = int (tokens[1])\n",
    "            jan_temps.append([day,temp])\n",
    "        except:\n",
    "            print(\"skip\\n\")\n",
    "        "
   ]
  },
  {
   "cell_type": "code",
   "execution_count": 6,
   "id": "e911dd1c",
   "metadata": {},
   "outputs": [
    {
     "data": {
      "text/plain": [
       "[['Jan 1', 27],\n",
       " ['Jan 2', 31],\n",
       " ['Jan 3', 23],\n",
       " ['Jan 4', 34],\n",
       " ['Jan 5', 37],\n",
       " ['Jan 6', 38],\n",
       " ['Jan 7', 29],\n",
       " ['Jan 8', 30],\n",
       " ['Jan 9', 35],\n",
       " ['Jan 10', 30]]"
      ]
     },
     "execution_count": 6,
     "metadata": {},
     "output_type": "execute_result"
    }
   ],
   "source": [
    "jan_temps"
   ]
  },
  {
   "cell_type": "code",
   "execution_count": 11,
   "id": "d00e06de",
   "metadata": {},
   "outputs": [],
   "source": [
    "avg_temps = 0\n",
    "for i in range(7):\n",
    "    avg_temps += jan_temps[i][1]\n",
    "    \n",
    "avg_temps /= 7"
   ]
  },
  {
   "cell_type": "code",
   "execution_count": 12,
   "id": "ba3dd2eb",
   "metadata": {},
   "outputs": [
    {
     "data": {
      "text/plain": [
       "31.285714285714285"
      ]
     },
     "execution_count": 12,
     "metadata": {},
     "output_type": "execute_result"
    }
   ],
   "source": [
    "avg_temps"
   ]
  },
  {
   "cell_type": "code",
   "execution_count": 13,
   "id": "187fbae9",
   "metadata": {},
   "outputs": [],
   "source": [
    "temps = []\n",
    "\n",
    "for i, j in jan_temps:\n",
    "    temps.append(j)"
   ]
  },
  {
   "cell_type": "code",
   "execution_count": 14,
   "id": "bc727fee",
   "metadata": {},
   "outputs": [
    {
     "data": {
      "text/plain": [
       "[27, 31, 23, 34, 37, 38, 29, 30, 35, 30]"
      ]
     },
     "execution_count": 14,
     "metadata": {},
     "output_type": "execute_result"
    }
   ],
   "source": [
    "temps"
   ]
  },
  {
   "cell_type": "code",
   "execution_count": 15,
   "id": "9c367b68",
   "metadata": {},
   "outputs": [
    {
     "data": {
      "text/plain": [
       "38"
      ]
     },
     "execution_count": 15,
     "metadata": {},
     "output_type": "execute_result"
    }
   ],
   "source": [
    "max(temps)"
   ]
  },
  {
   "cell_type": "markdown",
   "id": "b944f562",
   "metadata": {},
   "source": [
    "we didn't really need a dictionary here, or even a 2d array because we only were interested in the numerical values"
   ]
  },
  {
   "cell_type": "code",
   "execution_count": 17,
   "id": "335ad28a",
   "metadata": {},
   "outputs": [
    {
     "name": "stdout",
     "output_type": "stream",
     "text": [
      "skip\n",
      "\n"
     ]
    }
   ],
   "source": [
    "jan_temps = {}\n",
    "with open(\"nyc_weather.csv\",\"r\") as file:\n",
    "    for line in file:\n",
    "        tokens = line.split(',')\n",
    "        day = tokens[0]\n",
    "        try:\n",
    "            temp = int (tokens[1])\n",
    "            jan_temps[day] = temp\n",
    "        except:\n",
    "            print(\"skip\\n\")"
   ]
  },
  {
   "cell_type": "code",
   "execution_count": 18,
   "id": "22d8bced",
   "metadata": {},
   "outputs": [
    {
     "data": {
      "text/plain": [
       "{'Jan 1': 27,\n",
       " 'Jan 2': 31,\n",
       " 'Jan 3': 23,\n",
       " 'Jan 4': 34,\n",
       " 'Jan 5': 37,\n",
       " 'Jan 6': 38,\n",
       " 'Jan 7': 29,\n",
       " 'Jan 8': 30,\n",
       " 'Jan 9': 35,\n",
       " 'Jan 10': 30}"
      ]
     },
     "execution_count": 18,
     "metadata": {},
     "output_type": "execute_result"
    }
   ],
   "source": [
    "jan_temps"
   ]
  },
  {
   "cell_type": "code",
   "execution_count": 19,
   "id": "6fe195a8",
   "metadata": {},
   "outputs": [
    {
     "data": {
      "text/plain": [
       "35"
      ]
     },
     "execution_count": 19,
     "metadata": {},
     "output_type": "execute_result"
    }
   ],
   "source": [
    "jan_temps['Jan 9']"
   ]
  },
  {
   "cell_type": "code",
   "execution_count": 20,
   "id": "bf7610e1",
   "metadata": {},
   "outputs": [
    {
     "data": {
      "text/plain": [
       "34"
      ]
     },
     "execution_count": 20,
     "metadata": {},
     "output_type": "execute_result"
    }
   ],
   "source": [
    "jan_temps['Jan 4']"
   ]
  },
  {
   "cell_type": "code",
   "execution_count": 22,
   "id": "8543beca",
   "metadata": {},
   "outputs": [],
   "source": [
    "poem_words = {}\n",
    "\n",
    "with open(\"poem.txt\",\"r\") as file:\n",
    "    for line in file:\n",
    "        tokens = line.split(' ')\n",
    "        for word in tokens:\n",
    "            word = word.replace('\\n', '')\n",
    "            if word not in poem_words.keys():\n",
    "                poem_words[word] = 1\n",
    "            else:\n",
    "                poem_words[word] += 1"
   ]
  },
  {
   "cell_type": "code",
   "execution_count": 23,
   "id": "7e80b981",
   "metadata": {},
   "outputs": [
    {
     "data": {
      "text/plain": [
       "{'Two': 2,\n",
       " 'roads': 2,\n",
       " 'diverged': 2,\n",
       " 'in': 3,\n",
       " 'a': 3,\n",
       " 'yellow': 1,\n",
       " 'wood,': 2,\n",
       " 'And': 6,\n",
       " 'sorry': 1,\n",
       " 'I': 8,\n",
       " 'could': 2,\n",
       " 'not': 1,\n",
       " 'travel': 1,\n",
       " 'both': 2,\n",
       " 'be': 2,\n",
       " 'one': 3,\n",
       " 'traveler,': 1,\n",
       " 'long': 1,\n",
       " 'stood': 1,\n",
       " 'looked': 1,\n",
       " 'down': 1,\n",
       " 'as': 5,\n",
       " 'far': 1,\n",
       " 'To': 1,\n",
       " 'where': 1,\n",
       " 'it': 2,\n",
       " 'bent': 1,\n",
       " 'the': 8,\n",
       " 'undergrowth;': 1,\n",
       " '': 3,\n",
       " 'Then': 1,\n",
       " 'took': 2,\n",
       " 'other,': 1,\n",
       " 'just': 1,\n",
       " 'fair,': 1,\n",
       " 'having': 1,\n",
       " 'perhaps': 1,\n",
       " 'better': 1,\n",
       " 'claim,': 1,\n",
       " 'Because': 1,\n",
       " 'was': 1,\n",
       " 'grassy': 1,\n",
       " 'and': 3,\n",
       " 'wanted': 1,\n",
       " 'wear;': 1,\n",
       " 'Though': 1,\n",
       " 'for': 2,\n",
       " 'that': 3,\n",
       " 'passing': 1,\n",
       " 'there': 1,\n",
       " 'Had': 1,\n",
       " 'worn': 1,\n",
       " 'them': 1,\n",
       " 'really': 1,\n",
       " 'about': 1,\n",
       " 'same,': 1,\n",
       " 'morning': 1,\n",
       " 'equally': 1,\n",
       " 'lay': 1,\n",
       " 'In': 1,\n",
       " 'leaves': 1,\n",
       " 'no': 1,\n",
       " 'step': 1,\n",
       " 'had': 1,\n",
       " 'trodden': 1,\n",
       " 'black.': 1,\n",
       " 'Oh,': 1,\n",
       " 'kept': 1,\n",
       " 'first': 1,\n",
       " 'another': 1,\n",
       " 'day!': 1,\n",
       " 'Yet': 1,\n",
       " 'knowing': 1,\n",
       " 'how': 1,\n",
       " 'way': 1,\n",
       " 'leads': 1,\n",
       " 'on': 1,\n",
       " 'to': 1,\n",
       " 'way,': 1,\n",
       " 'doubted': 1,\n",
       " 'if': 1,\n",
       " 'should': 1,\n",
       " 'ever': 1,\n",
       " 'come': 1,\n",
       " 'back.': 1,\n",
       " 'shall': 1,\n",
       " 'telling': 1,\n",
       " 'this': 1,\n",
       " 'with': 1,\n",
       " 'sigh': 1,\n",
       " 'Somewhere': 1,\n",
       " 'ages': 2,\n",
       " 'hence:': 1,\n",
       " 'I—': 1,\n",
       " 'less': 1,\n",
       " 'traveled': 1,\n",
       " 'by,': 1,\n",
       " 'has': 1,\n",
       " 'made': 1,\n",
       " 'all': 1,\n",
       " 'difference.': 1}"
      ]
     },
     "execution_count": 23,
     "metadata": {},
     "output_type": "execute_result"
    }
   ],
   "source": [
    "poem_words"
   ]
  },
  {
   "cell_type": "markdown",
   "id": "022ae81e",
   "metadata": {},
   "source": [
    "here, we use a dictionary"
   ]
  },
  {
   "cell_type": "markdown",
   "id": "b62304b2",
   "metadata": {},
   "source": [
    "### Implement a Hash Table"
   ]
  },
  {
   "cell_type": "code",
   "execution_count": 140,
   "id": "f6ef7580",
   "metadata": {},
   "outputs": [],
   "source": [
    "class HashTable:\n",
    "    def __init__(self):\n",
    "        self.MAX = 10\n",
    "        self.arr = [[] for i in range(self.MAX)]\n",
    "\n",
    "    def get_hash(self, key):\n",
    "        hash = 0\n",
    "        for char in key:\n",
    "            hash += ord(char)\n",
    "        return hash % self.MAX\n",
    "    \n",
    "    def getitem(self, key):\n",
    "        h = self.get_hash(key)\n",
    "        for element in self.arr[h]:\n",
    "            if element[0] == key:\n",
    "                return element[1]\n",
    "    \n",
    "    def setitem(self, key, val):\n",
    "        print(key)\n",
    "        h = self.get_hash(key)\n",
    "        \n",
    "        found = False\n",
    "        for idx, element in enumerate(self.arr[h]):\n",
    "            print(element[0])\n",
    "            if len(element) == 2 and element[0] == key:\n",
    "                print(element[0])\n",
    "                print(1)\n",
    "                self.arr[h][idx] = (key,val)\n",
    "                found = True\n",
    "                break\n",
    "                \n",
    "        if not found:  \n",
    "            self.arr[h].append((key,val))\n",
    "    \n",
    "    def __delitem__(self, key):\n",
    "        h = self.get_hash(key)\n",
    "        for index, element in enumereate(self.arr[h]):\n",
    "            if element[0] == key:\n",
    "                del self.arr[h][index]"
   ]
  },
  {
   "cell_type": "code",
   "execution_count": 141,
   "id": "cd4bd519",
   "metadata": {},
   "outputs": [],
   "source": [
    "vocab = HashTable()\n"
   ]
  },
  {
   "cell_type": "code",
   "execution_count": 142,
   "id": "faa9a401",
   "metadata": {},
   "outputs": [
    {
     "data": {
      "text/plain": [
       "1"
      ]
     },
     "execution_count": 142,
     "metadata": {},
     "output_type": "execute_result"
    }
   ],
   "source": [
    "vocab.get_hash('slay')"
   ]
  },
  {
   "cell_type": "code",
   "execution_count": 143,
   "id": "d20aed53",
   "metadata": {},
   "outputs": [
    {
     "data": {
      "text/plain": [
       "[[], [], [], [], [], [], [], [], [], []]"
      ]
     },
     "execution_count": 143,
     "metadata": {},
     "output_type": "execute_result"
    }
   ],
   "source": [
    "vocab.arr"
   ]
  },
  {
   "cell_type": "code",
   "execution_count": 144,
   "id": "13ed5117",
   "metadata": {},
   "outputs": [
    {
     "name": "stdout",
     "output_type": "stream",
     "text": [
      "slay\n"
     ]
    }
   ],
   "source": [
    "vocab.setitem('slay', 'killing it')"
   ]
  },
  {
   "cell_type": "code",
   "execution_count": 145,
   "id": "3c3b2dfc",
   "metadata": {},
   "outputs": [
    {
     "data": {
      "text/plain": [
       "[[], [('slay', 'killing it')], [], [], [], [], [], [], [], []]"
      ]
     },
     "execution_count": 145,
     "metadata": {},
     "output_type": "execute_result"
    }
   ],
   "source": [
    "vocab.arr"
   ]
  },
  {
   "cell_type": "code",
   "execution_count": 146,
   "id": "7422a025",
   "metadata": {},
   "outputs": [
    {
     "name": "stdout",
     "output_type": "stream",
     "text": [
      "dddd)\n",
      "slay\n"
     ]
    }
   ],
   "source": [
    "vocab.setitem('dddd)', 'test')"
   ]
  },
  {
   "cell_type": "code",
   "execution_count": 108,
   "id": "391bd158",
   "metadata": {},
   "outputs": [
    {
     "data": {
      "text/plain": [
       "[[],\n",
       " [('slay', 'killing it'), ('dddd)', 'test')],\n",
       " [],\n",
       " [],\n",
       " [],\n",
       " [],\n",
       " [],\n",
       " [],\n",
       " [],\n",
       " []]"
      ]
     },
     "execution_count": 108,
     "metadata": {},
     "output_type": "execute_result"
    }
   ],
   "source": [
    "vocab.arr"
   ]
  },
  {
   "cell_type": "code",
   "execution_count": 117,
   "id": "9aebbfb6",
   "metadata": {},
   "outputs": [
    {
     "name": "stdout",
     "output_type": "stream",
     "text": [
      "1\n"
     ]
    }
   ],
   "source": []
  },
  {
   "cell_type": "code",
   "execution_count": null,
   "id": "1a5496ce",
   "metadata": {},
   "outputs": [],
   "source": []
  }
 ],
 "metadata": {
  "kernelspec": {
   "display_name": "Python 3",
   "language": "python",
   "name": "python3"
  },
  "language_info": {
   "codemirror_mode": {
    "name": "ipython",
    "version": 3
   },
   "file_extension": ".py",
   "mimetype": "text/x-python",
   "name": "python",
   "nbconvert_exporter": "python",
   "pygments_lexer": "ipython3",
   "version": "3.6.8"
  }
 },
 "nbformat": 4,
 "nbformat_minor": 5
}
